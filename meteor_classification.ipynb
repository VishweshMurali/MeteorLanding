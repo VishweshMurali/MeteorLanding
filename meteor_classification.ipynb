{
 "cells": [
  {
   "cell_type": "code",
   "execution_count": 1,
   "id": "c277da1f",
   "metadata": {},
   "outputs": [],
   "source": [
    "import pandas as pd\n",
    "import matplotlib.pyplot as plt\n",
    "import math as math"
   ]
  },
  {
   "cell_type": "code",
   "execution_count": 2,
   "id": "81a12d3d",
   "metadata": {},
   "outputs": [],
   "source": [
    "df = pd.read_csv(\"Meteorite_Landings.csv\")"
   ]
  },
  {
   "cell_type": "code",
   "execution_count": 3,
   "id": "a819ad52",
   "metadata": {},
   "outputs": [
    {
     "name": "stdout",
     "output_type": "stream",
     "text": [
      "Index(['name', 'id', 'nametype', 'recclass', 'mass (g)', 'fall', 'year',\n",
      "       'reclat', 'reclong', 'GeoLocation'],\n",
      "      dtype='object')\n",
      "       name   id nametype     recclass  mass (g)  fall    year    reclat  \\\n",
      "0    Aachen    1    Valid           L5      21.0  Fell  1880.0  50.77500   \n",
      "1    Aarhus    2    Valid           H6     720.0  Fell  1951.0  56.18333   \n",
      "2      Abee    6    Valid          EH4  107000.0  Fell  1952.0  54.21667   \n",
      "3  Acapulco   10    Valid  Acapulcoite    1914.0  Fell  1976.0  16.88333   \n",
      "4   Achiras  370    Valid           L6     780.0  Fell  1902.0 -33.16667   \n",
      "\n",
      "     reclong           GeoLocation  \n",
      "0    6.08333     (50.775, 6.08333)  \n",
      "1   10.23333  (56.18333, 10.23333)  \n",
      "2 -113.00000    (54.21667, -113.0)  \n",
      "3  -99.90000     (16.88333, -99.9)  \n",
      "4  -64.95000   (-33.16667, -64.95)  \n"
     ]
    }
   ],
   "source": [
    "print(df.columns)\n",
    "print(df.head())"
   ]
  },
  {
   "cell_type": "code",
   "execution_count": 4,
   "id": "63635c73",
   "metadata": {},
   "outputs": [
    {
     "name": "stdout",
     "output_type": "stream",
     "text": [
      "<class 'pandas.core.frame.DataFrame'>\n",
      "RangeIndex: 45716 entries, 0 to 45715\n",
      "Data columns (total 10 columns):\n",
      " #   Column       Non-Null Count  Dtype  \n",
      "---  ------       --------------  -----  \n",
      " 0   name         45716 non-null  object \n",
      " 1   id           45716 non-null  int64  \n",
      " 2   nametype     45716 non-null  object \n",
      " 3   recclass     45716 non-null  object \n",
      " 4   mass (g)     45585 non-null  float64\n",
      " 5   fall         45716 non-null  object \n",
      " 6   year         45425 non-null  float64\n",
      " 7   reclat       38401 non-null  float64\n",
      " 8   reclong      38401 non-null  float64\n",
      " 9   GeoLocation  38401 non-null  object \n",
      "dtypes: float64(4), int64(1), object(5)\n",
      "memory usage: 3.5+ MB\n",
      "None\n",
      "                 id      mass (g)          year        reclat       reclong\n",
      "count  45716.000000  4.558500e+04  45425.000000  38401.000000  38401.000000\n",
      "mean   26889.735104  1.327808e+04   1991.828817    -39.122580     61.074319\n",
      "std    16860.683030  5.749889e+05     25.052766     46.378511     80.647298\n",
      "min        1.000000  0.000000e+00    860.000000    -87.366670   -165.433330\n",
      "25%    12688.750000  7.200000e+00   1987.000000    -76.714240      0.000000\n",
      "50%    24261.500000  3.260000e+01   1998.000000    -71.500000     35.666670\n",
      "75%    40656.750000  2.026000e+02   2003.000000      0.000000    157.166670\n",
      "max    57458.000000  6.000000e+07   2101.000000     81.166670    354.473330\n"
     ]
    }
   ],
   "source": [
    "print(df.info())\n",
    "print(df.describe())"
   ]
  },
  {
   "cell_type": "code",
   "execution_count": 5,
   "id": "59c33029",
   "metadata": {},
   "outputs": [],
   "source": [
    "def sorting(c):\n",
    "    c = c.upper()\n",
    "    if max(x in c for x in [\"~\", '?', '/' ]) : return \"Unknown\"\n",
    "    elif \"HOW\" in c: return \"Howardite\"\n",
    "    elif \"EUC\" in c: return \"Eucrite\"\n",
    "    elif \"DIO\" in c: return \"Diogenite\"\n",
    "    elif \"SHE\" in c: return \"Shergottite\"\n",
    "    elif \"NAK\" in c: return \"Nakhlite\"\n",
    "    elif \"CHA\" in c: return \"Chassignite\"\n",
    "    elif \"LUN\" in c: return \"Lunar\"\n",
    "    elif \"AUB\" in c: return \"Aubrite\"\n",
    "    elif \"ACAP\" in c: return \"Acapulcoite\"\n",
    "    elif \"LOD\" in c: return \"Lodranite\"\n",
    "    elif \"URE\" in c: return \"Urelites\"\n",
    "    elif \"ANGR\" in c: return \"Angrite\"\n",
    "    elif \"BRACH\" in c: return \"Brachinite\"\n",
    "    elif \"WIN\" in c: return \"Winonaite\"\n",
    "    elif \"PAL\" in c: return \"Pallasite\"\n",
    "    elif \"MAR\" in c: return \"Martian\" #cmon man, really?\n",
    "    elif max(x in c for x in [f\"A{t}\" for t in range (1,5)]+[f\"B{t}\" for t in range (1,4)]):\n",
    "        return \"Mesosiderites\"\n",
    "    elif max(x in c for x in [\"OG\", \"OM\", \"OF\", \"OPL\"]):\n",
    "        return \"Octahedrites\"\n",
    "    elif max(x in c for x in [\"CI\", \"CM\", \"CO\", \"CV\", \"CK\", \"CR\", \"CH\", \"TAG\", \"CB\"] +[f\"C{t}\" for t in range(1,7)]):\n",
    "        return \"Carbonaceous Chondrite\"\n",
    "    elif max(x in c for x in [f'E{y}{x}' for x in range(3,8) for y in [\"L\", \"H\", \"\"] if f'E{y}{x}' not in ['EH7', 'EH8']]):\n",
    "        return \"Enstatite Chondrite\"\n",
    "    elif  max(x in c for x in [f'LL{x}' for x in range(3,8)] + [f'LL{~x}' for x in range(3,8)]):\n",
    "        return \"LL Chondrite\"\n",
    "    elif  max(x in c for x in [f'H{x}' for x in range(3,8)] + [f'H~{x}' for x in range(3,8)]):\n",
    "        return \"H Chondrite\"\n",
    "    elif  max(x in c for x in [f'L{x}' for x in range(3,8)] + [f'L~{x}' for x in range(3,8)]):\n",
    "        return \"L Chondrite\"\n",
    "    elif \"OC\" in c: return \"Ordinary Chondrite\"\n",
    "    elif \"LL\" in c: return \"LL Chondrite\"\n",
    "    elif \"L\" in c: return \"L Chondrite\"\n",
    "    elif \"K\" in c: return \"Kakangari\"\n",
    "    elif \"R\" in c: return \"Rumurutiite\"\n",
    "    elif \"H\" in c: return \"Hexahedrite\"\n",
    "    elif \"D\" in c: return \"Ataxites\"\n",
    "    elif \"E\" in c: return \"Ataxites\"\n",
    "    elif max(x in c for x in [\"(\", \")\",]): return c\n",
    "    else: return c\n",
    "\n",
    "df[\"superclass\"] = df['recclass'].apply(sorting)"
   ]
  },
  {
   "cell_type": "code",
   "execution_count": 6,
   "id": "cef54ab3",
   "metadata": {},
   "outputs": [],
   "source": [
    "def super_sorting(c):\n",
    "    c = c.lower()\n",
    "    if 'chondrite' in c or c in [\"r\", \"k\"]:\n",
    "        return \"Chondrite\"\n",
    "    elif max(x in c for x in [\"ure\", \"bra\", \"aca\", \"lod\", \"win\", \"iab\", \"iicd\"]):\n",
    "        return \"Primitive Achondrite\"\n",
    "    elif max(x in c for x in [\"lunar\", \"martian\", \"euc\", \"aub\", \"dio\", \"ang\", \"how\", \"mes\", \"pal\"]):\n",
    "        return \"Achondrite\"\n",
    "    else: return c\n",
    "\n",
    "df[\"megaclass\"] = df['superclass'].apply(super_sorting)"
   ]
  },
  {
   "cell_type": "code",
   "execution_count": 8,
   "id": "2eaaae41",
   "metadata": {},
   "outputs": [],
   "source": [
    "df.to_csv(\"Meteorite_Landings_With_Classification.csv\")"
   ]
  }
 ],
 "metadata": {
  "kernelspec": {
   "display_name": "base",
   "language": "python",
   "name": "python3"
  },
  "language_info": {
   "codemirror_mode": {
    "name": "ipython",
    "version": 3
   },
   "file_extension": ".py",
   "mimetype": "text/x-python",
   "name": "python",
   "nbconvert_exporter": "python",
   "pygments_lexer": "ipython3",
   "version": "3.12.3"
  }
 },
 "nbformat": 4,
 "nbformat_minor": 5
}
